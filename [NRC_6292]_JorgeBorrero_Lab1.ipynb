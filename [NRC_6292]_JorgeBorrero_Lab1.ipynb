{
 "cells": [
  {
   "cell_type": "markdown",
   "id": "8b6f603c",
   "metadata": {},
   "source": [
    "<center><h1>Técnicas de Inteligencia Artificial</header1></center>"
   ]
  },
  {
   "cell_type": "markdown",
   "id": "3eb1aaac",
   "metadata": {},
   "source": [
    "Presentado por: Jorge Borrero  <br>\n",
    "Fecha: 18/07/2022"
   ]
  },
  {
   "cell_type": "markdown",
   "id": "1dec299b",
   "metadata": {
    "ExecuteTime": {
     "end_time": "2022-03-14T15:14:04.930713Z",
     "start_time": "2022-03-14T15:14:04.921682Z"
    }
   },
   "source": [
    "# Importación de librerias necesarias"
   ]
  },
  {
   "cell_type": "code",
   "execution_count": 9,
   "id": "6d1abf7a",
   "metadata": {
    "ExecuteTime": {
     "end_time": "2022-03-14T15:14:46.228059Z",
     "start_time": "2022-03-14T15:14:46.223108Z"
    }
   },
   "outputs": [],
   "source": [
    "#Para esta actividad se importarán las siguientes librerías:\n",
    "\n",
    "#Importacion de la libreria pandas\n",
    "import pandas as pd\n",
    "\n",
    "#Importacion de la libreria numpy\n",
    "import numpy as np\n",
    "\n",
    "#Importacion de la libreria matplotlib.pyplot\n",
    "import matplotlib.pyplot as plt\n",
    "\n",
    "#Importacion de la libreria para regresión lineal\n",
    "from sklearn.linear_model import LinearRegression \n",
    "\n",
    "# Importacion de la libreria statsmodels\n",
    "import statsmodels.api as smi\n",
    "\n",
    "# Del modelo de selección, importancion de train_test_split\n",
    "from sklearn.model_selection import train_test_split\n",
    "\n",
    "#Importacion de las metricas\n",
    "from sklearn import metrics"
   ]
  },
  {
   "cell_type": "markdown",
   "id": "6a44b924",
   "metadata": {},
   "source": [
    "## Cargar el Dataset"
   ]
  },
  {
   "cell_type": "code",
   "execution_count": 10,
   "id": "3541e808",
   "metadata": {},
   "outputs": [],
   "source": [
    "#Código para cargar el Dataset\n",
    "\n",
    "'''\n",
    "Procedimiento para cargar el dataset insurance\n",
    "    pd: Variable que hace referencia a la libreria pandas\n",
    "'''\n",
    "\n",
    "#Cargamos el dataset\n",
    "csv = pd.read_csv('insurance.csv')"
   ]
  },
  {
   "cell_type": "code",
   "execution_count": 11,
   "id": "8ba51404",
   "metadata": {},
   "outputs": [
    {
     "data": {
      "text/html": [
       "<div>\n",
       "<style scoped>\n",
       "    .dataframe tbody tr th:only-of-type {\n",
       "        vertical-align: middle;\n",
       "    }\n",
       "\n",
       "    .dataframe tbody tr th {\n",
       "        vertical-align: top;\n",
       "    }\n",
       "\n",
       "    .dataframe thead th {\n",
       "        text-align: right;\n",
       "    }\n",
       "</style>\n",
       "<table border=\"1\" class=\"dataframe\">\n",
       "  <thead>\n",
       "    <tr style=\"text-align: right;\">\n",
       "      <th></th>\n",
       "      <th>age</th>\n",
       "      <th>sex</th>\n",
       "      <th>bmi</th>\n",
       "      <th>children</th>\n",
       "      <th>smoker</th>\n",
       "      <th>region</th>\n",
       "      <th>charges</th>\n",
       "    </tr>\n",
       "  </thead>\n",
       "  <tbody>\n",
       "    <tr>\n",
       "      <th>0</th>\n",
       "      <td>19</td>\n",
       "      <td>female</td>\n",
       "      <td>27.900</td>\n",
       "      <td>0</td>\n",
       "      <td>yes</td>\n",
       "      <td>southwest</td>\n",
       "      <td>16884.92400</td>\n",
       "    </tr>\n",
       "    <tr>\n",
       "      <th>1</th>\n",
       "      <td>18</td>\n",
       "      <td>male</td>\n",
       "      <td>33.770</td>\n",
       "      <td>1</td>\n",
       "      <td>no</td>\n",
       "      <td>southeast</td>\n",
       "      <td>1725.55230</td>\n",
       "    </tr>\n",
       "    <tr>\n",
       "      <th>2</th>\n",
       "      <td>28</td>\n",
       "      <td>male</td>\n",
       "      <td>33.000</td>\n",
       "      <td>3</td>\n",
       "      <td>no</td>\n",
       "      <td>southeast</td>\n",
       "      <td>4449.46200</td>\n",
       "    </tr>\n",
       "    <tr>\n",
       "      <th>3</th>\n",
       "      <td>33</td>\n",
       "      <td>male</td>\n",
       "      <td>22.705</td>\n",
       "      <td>0</td>\n",
       "      <td>no</td>\n",
       "      <td>northwest</td>\n",
       "      <td>21984.47061</td>\n",
       "    </tr>\n",
       "    <tr>\n",
       "      <th>4</th>\n",
       "      <td>32</td>\n",
       "      <td>male</td>\n",
       "      <td>28.880</td>\n",
       "      <td>0</td>\n",
       "      <td>no</td>\n",
       "      <td>northwest</td>\n",
       "      <td>3866.85520</td>\n",
       "    </tr>\n",
       "    <tr>\n",
       "      <th>5</th>\n",
       "      <td>31</td>\n",
       "      <td>female</td>\n",
       "      <td>25.740</td>\n",
       "      <td>0</td>\n",
       "      <td>no</td>\n",
       "      <td>southeast</td>\n",
       "      <td>3756.62160</td>\n",
       "    </tr>\n",
       "    <tr>\n",
       "      <th>6</th>\n",
       "      <td>46</td>\n",
       "      <td>female</td>\n",
       "      <td>33.440</td>\n",
       "      <td>1</td>\n",
       "      <td>no</td>\n",
       "      <td>southeast</td>\n",
       "      <td>8240.58960</td>\n",
       "    </tr>\n",
       "    <tr>\n",
       "      <th>7</th>\n",
       "      <td>37</td>\n",
       "      <td>female</td>\n",
       "      <td>27.740</td>\n",
       "      <td>3</td>\n",
       "      <td>no</td>\n",
       "      <td>northwest</td>\n",
       "      <td>7281.50560</td>\n",
       "    </tr>\n",
       "    <tr>\n",
       "      <th>8</th>\n",
       "      <td>37</td>\n",
       "      <td>male</td>\n",
       "      <td>29.830</td>\n",
       "      <td>2</td>\n",
       "      <td>no</td>\n",
       "      <td>northeast</td>\n",
       "      <td>6406.41070</td>\n",
       "    </tr>\n",
       "    <tr>\n",
       "      <th>9</th>\n",
       "      <td>60</td>\n",
       "      <td>female</td>\n",
       "      <td>25.840</td>\n",
       "      <td>0</td>\n",
       "      <td>no</td>\n",
       "      <td>northwest</td>\n",
       "      <td>28923.13692</td>\n",
       "    </tr>\n",
       "    <tr>\n",
       "      <th>10</th>\n",
       "      <td>25</td>\n",
       "      <td>male</td>\n",
       "      <td>26.220</td>\n",
       "      <td>0</td>\n",
       "      <td>no</td>\n",
       "      <td>northeast</td>\n",
       "      <td>2721.32080</td>\n",
       "    </tr>\n",
       "    <tr>\n",
       "      <th>11</th>\n",
       "      <td>62</td>\n",
       "      <td>female</td>\n",
       "      <td>26.290</td>\n",
       "      <td>0</td>\n",
       "      <td>yes</td>\n",
       "      <td>southeast</td>\n",
       "      <td>27808.72510</td>\n",
       "    </tr>\n",
       "    <tr>\n",
       "      <th>12</th>\n",
       "      <td>23</td>\n",
       "      <td>male</td>\n",
       "      <td>34.400</td>\n",
       "      <td>0</td>\n",
       "      <td>no</td>\n",
       "      <td>southwest</td>\n",
       "      <td>1826.84300</td>\n",
       "    </tr>\n",
       "    <tr>\n",
       "      <th>13</th>\n",
       "      <td>56</td>\n",
       "      <td>female</td>\n",
       "      <td>39.820</td>\n",
       "      <td>0</td>\n",
       "      <td>no</td>\n",
       "      <td>southeast</td>\n",
       "      <td>11090.71780</td>\n",
       "    </tr>\n",
       "    <tr>\n",
       "      <th>14</th>\n",
       "      <td>27</td>\n",
       "      <td>male</td>\n",
       "      <td>42.130</td>\n",
       "      <td>0</td>\n",
       "      <td>yes</td>\n",
       "      <td>southeast</td>\n",
       "      <td>39611.75770</td>\n",
       "    </tr>\n",
       "  </tbody>\n",
       "</table>\n",
       "</div>"
      ],
      "text/plain": [
       "    age     sex     bmi  children smoker     region      charges\n",
       "0    19  female  27.900         0    yes  southwest  16884.92400\n",
       "1    18    male  33.770         1     no  southeast   1725.55230\n",
       "2    28    male  33.000         3     no  southeast   4449.46200\n",
       "3    33    male  22.705         0     no  northwest  21984.47061\n",
       "4    32    male  28.880         0     no  northwest   3866.85520\n",
       "5    31  female  25.740         0     no  southeast   3756.62160\n",
       "6    46  female  33.440         1     no  southeast   8240.58960\n",
       "7    37  female  27.740         3     no  northwest   7281.50560\n",
       "8    37    male  29.830         2     no  northeast   6406.41070\n",
       "9    60  female  25.840         0     no  northwest  28923.13692\n",
       "10   25    male  26.220         0     no  northeast   2721.32080\n",
       "11   62  female  26.290         0    yes  southeast  27808.72510\n",
       "12   23    male  34.400         0     no  southwest   1826.84300\n",
       "13   56  female  39.820         0     no  southeast  11090.71780\n",
       "14   27    male  42.130         0    yes  southeast  39611.75770"
      ]
     },
     "execution_count": 11,
     "metadata": {},
     "output_type": "execute_result"
    }
   ],
   "source": [
    "'''\n",
    "La función head() permite visualizar los 5 primeros datos del dataset por defecto\n",
    "        Se visualizaran los datos del dataset\n",
    "'''\n",
    "#Visualizar los registros del dataset\n",
    "csv.head(15)"
   ]
  },
  {
   "cell_type": "markdown",
   "id": "93c30410",
   "metadata": {},
   "source": [
    "## Descripción de la fuente del Dataset"
   ]
  },
  {
   "cell_type": "code",
   "execution_count": 12,
   "id": "6297cadd",
   "metadata": {},
   "outputs": [
    {
     "name": "stdout",
     "output_type": "stream",
     "text": [
      "<class 'pandas.core.frame.DataFrame'>\n",
      "RangeIndex: 1338 entries, 0 to 1337\n",
      "Data columns (total 7 columns):\n",
      " #   Column    Non-Null Count  Dtype  \n",
      "---  ------    --------------  -----  \n",
      " 0   age       1338 non-null   int64  \n",
      " 1   sex       1338 non-null   object \n",
      " 2   bmi       1338 non-null   float64\n",
      " 3   children  1338 non-null   int64  \n",
      " 4   smoker    1338 non-null   object \n",
      " 5   region    1338 non-null   object \n",
      " 6   charges   1338 non-null   float64\n",
      "dtypes: float64(2), int64(2), object(3)\n",
      "memory usage: 73.3+ KB\n"
     ]
    }
   ],
   "source": [
    "'''\n",
    "La función info() permite visualizar la información del dataset\n",
    "    Información de la base de datos\n",
    "'''\n",
    "\n",
    "#Visualizar la información de dataset\n",
    "csv.info()"
   ]
  },
  {
   "cell_type": "markdown",
   "id": "34c1b6cf",
   "metadata": {},
   "source": [
    "**Descripción**\n",
    "\n",
    "Por medio de la función info se puede obtener la información del dataset el cual tiene 414 registros los cuales representan a diferentes caracteristicas sobre una casa. El dataset cuenta con 8 campos donde se puede tomar como variable objetivo **(Y house price of unit area)** y como variables de entrada:\n",
    "\n",
    "**Variables X** Variable Independiente\n",
    "\n",
    "Age: Edad del asegurado (Variable Caracteristico)\n",
    "\n",
    "Sex: Representa el genero del asegurado (Variable Caracteristico)\n",
    "\n",
    "bmi: Indicador la masa corporal del asegurado (Variable Continua)\n",
    "\n",
    "children: Numero de hijos del asegurado (Variable Caracteristico)\n",
    "\n",
    "smoker: Indicador si fuma el asegurado (Variable Caracteristico)\n",
    "\n",
    "region: Region donde vive el asegurado (Variable Caracteristico)\n",
    "\n",
    "**Variable Y** Variable Dependiente\n",
    "\n",
    "charges: Prima de Seguro"
   ]
  },
  {
   "cell_type": "markdown",
   "id": "7f868eab",
   "metadata": {},
   "source": [
    "## Explique el problema a resolver. \n",
    "\n",
    "El problema a resolver es el diferenciar los costos medicos que tiene un paciente asegurado, el primordial objetivo eso predecir el costo medico con base los diferentes puntos ya mencionados. Para la solución del problema se empleara la regresión lineal seleccionando valores de entrada y de objetivo."
   ]
  },
  {
   "cell_type": "markdown",
   "id": "a0b719c1",
   "metadata": {},
   "source": [
    "## Caracterización del Dataset\n",
    "\n",
    "Realice una descripción de los datos con:\n",
    "\n",
    ">- Número de instancias en total.\n",
    ">- Número de atributos de entrada, su significado y tipo.\n",
    ">- Estadísticas de la variable objetivo.\n",
    ">- Estadísticas los atributos en relación con la variable objetivo.\n"
   ]
  },
  {
   "cell_type": "code",
   "execution_count": 13,
   "id": "2f0ed5d2",
   "metadata": {},
   "outputs": [
    {
     "data": {
      "text/plain": [
       "age         1338\n",
       "sex         1338\n",
       "bmi         1338\n",
       "children    1338\n",
       "smoker      1338\n",
       "region      1338\n",
       "charges     1338\n",
       "dtype: int64"
      ]
     },
     "execution_count": 13,
     "metadata": {},
     "output_type": "execute_result"
    }
   ],
   "source": [
    "#Código que responde a la descripción anterior\n",
    "\n",
    "#Número de instancias en total\n",
    "csv.count()"
   ]
  },
  {
   "cell_type": "markdown",
   "id": "ecb72b88",
   "metadata": {},
   "source": [
    "**Número de atributos de entrada, su significado y tipo**\n",
    "\n",
    "\n",
    "**Variables X:** Variable Independiente\n",
    "\n",
    "Age: Edad del asegurado (Variable Caracteristico)\n",
    "\n",
    "Sex: Representa el genero del asegurado (Variable Caracteristico)\n",
    "\n",
    "bmi: Indicador la masa corporal del asegurado (Variable Continua)\n",
    "\n",
    "children: Numero de hijos del asegurado (Variable Caracteristico)\n",
    "\n",
    "smoker: Indicador si fuma el asegurado (Variable Caracteristico)\n",
    "\n",
    "region: Region donde vive el asegurado (Variable Caracteristico)"
   ]
  },
  {
   "cell_type": "code",
   "execution_count": 15,
   "id": "587ff8e4",
   "metadata": {},
   "outputs": [
    {
     "name": "stdout",
     "output_type": "stream",
     "text": [
      "<class 'pandas.core.frame.DataFrame'>\n",
      "RangeIndex: 1338 entries, 0 to 1337\n",
      "Data columns (total 6 columns):\n",
      " #   Column    Non-Null Count  Dtype  \n",
      "---  ------    --------------  -----  \n",
      " 0   age       1338 non-null   int64  \n",
      " 1   sex       1338 non-null   object \n",
      " 2   bmi       1338 non-null   float64\n",
      " 3   children  1338 non-null   int64  \n",
      " 4   smoker    1338 non-null   object \n",
      " 5   region    1338 non-null   object \n",
      "dtypes: float64(1), int64(2), object(3)\n",
      "memory usage: 62.8+ KB\n"
     ]
    }
   ],
   "source": [
    "#Visualizar la información de los 6 atributos de entrada.\n",
    "csv.drop('charges', axis=1).info()"
   ]
  },
  {
   "cell_type": "markdown",
   "id": "a7ab5e48",
   "metadata": {},
   "source": [
    "**Variable objetivo - Estadísticas**\n",
    "\n",
    "Se va a realizar la programacion de un modelo de regresión lineal, que nos permitira que el histograma nos presente una una curva de campana o una versión levemente sesgada del misma."
   ]
  },
  {
   "cell_type": "code",
   "execution_count": 16,
   "id": "f8c83ba1",
   "metadata": {},
   "outputs": [],
   "source": [
    "#Importación de la funcion matpolib online\n",
    "%matplotlib inline"
   ]
  },
  {
   "cell_type": "code",
   "execution_count": 17,
   "id": "2fd254d6",
   "metadata": {},
   "outputs": [
    {
     "data": {
      "text/plain": [
       "<AxesSubplot:>"
      ]
     },
     "execution_count": 17,
     "metadata": {},
     "output_type": "execute_result"
    },
    {
     "data": {
      "image/png": "[encoded data removed]",
      "text/plain": [
       "<Figure size 432x288 with 1 Axes>"
      ]
     },
     "metadata": {
      "needs_background": "light"
     },
     "output_type": "display_data"
    }
   ],
   "source": [
    "#Gráfica de barras de la variable objetivo\n",
    "csv['charges'].hist()"
   ]
  },
  {
   "cell_type": "markdown",
   "id": "0a19e6af",
   "metadata": {},
   "source": [
    "## Preprocesamiento del dataset. Transformaciones previas necesarias para la modelación"
   ]
  },
  {
   "cell_type": "code",
   "execution_count": 4,
   "id": "5a24dac4",
   "metadata": {},
   "outputs": [],
   "source": [
    "#Transformación de las caracteristicas (mire el apartado Feature engineering del aula virtual)\n"
   ]
  },
  {
   "cell_type": "markdown",
   "id": "49815fde",
   "metadata": {
    "ExecuteTime": {
     "end_time": "2022-03-14T15:56:34.366469Z",
     "start_time": "2022-03-14T15:56:34.358471Z"
    }
   },
   "source": [
    "## División del dataset en datos de entrenamiento y datos de test "
   ]
  },
  {
   "cell_type": "code",
   "execution_count": 5,
   "id": "6f26d21e",
   "metadata": {},
   "outputs": [],
   "source": [
    "#Código que realice la división en entrenamiento y test, de acuerdo con la estretgia de evaluación planeada. Describa cuál es.\n"
   ]
  },
  {
   "cell_type": "markdown",
   "id": "6319adad",
   "metadata": {},
   "source": [
    "## Regresión Lineal"
   ]
  },
  {
   "cell_type": "code",
   "execution_count": 6,
   "id": "d5d2b2c6",
   "metadata": {},
   "outputs": [],
   "source": [
    "#Códo del modelo"
   ]
  },
  {
   "cell_type": "code",
   "execution_count": 7,
   "id": "33f5be2a",
   "metadata": {
    "ExecuteTime": {
     "end_time": "2022-04-25T07:21:39.020596Z",
     "start_time": "2022-04-25T07:21:39.005596Z"
    }
   },
   "outputs": [],
   "source": [
    "#Entrenamiento"
   ]
  },
  {
   "cell_type": "code",
   "execution_count": 8,
   "id": "a2e675b3",
   "metadata": {},
   "outputs": [],
   "source": [
    "#Test"
   ]
  },
  {
   "cell_type": "markdown",
   "id": "9c2239f5",
   "metadata": {},
   "source": [
    "## Evaluación del Modelo"
   ]
  },
  {
   "cell_type": "markdown",
   "id": "ad219a0c",
   "metadata": {},
   "source": [
    "Construya un o dos párrafos con los principales hallazgos. Cómo está funcionando el modelo? Calidad en los resultados de predicción. "
   ]
  },
  {
   "cell_type": "code",
   "execution_count": null,
   "id": "28b14a2f",
   "metadata": {},
   "outputs": [],
   "source": []
  }
 ],
 "metadata": {
  "kernelspec": {
   "display_name": "Python 3 (ipykernel)",
   "language": "python",
   "name": "python3"
  },
  "language_info": {
   "codemirror_mode": {
    "name": "ipython",
    "version": 3
   },
   "file_extension": ".py",
   "mimetype": "text/x-python",
   "name": "python",
   "nbconvert_exporter": "python",
   "pygments_lexer": "ipython3",
   "version": "3.9.7"
  },
  "toc": {
   "base_numbering": 1,
   "nav_menu": {},
   "number_sections": true,
   "sideBar": true,
   "skip_h1_title": true,
   "title_cell": "Tabla de Contenido",
   "title_sidebar": "Contenido",
   "toc_cell": false,
   "toc_position": {
    "height": "calc(100% - 180px)",
    "left": "10px",
    "top": "150px",
    "width": "263.591px"
   },
   "toc_section_display": true,
   "toc_window_display": true
  }
 },
 "nbformat": 4,
 "nbformat_minor": 5
}
